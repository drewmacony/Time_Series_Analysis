version https://git-lfs.github.com/spec/v1
oid sha256:ae2db63dfd8c5d46affa811287a532948c75d94121ff584a10e8654c9086f9ab
size 140000
